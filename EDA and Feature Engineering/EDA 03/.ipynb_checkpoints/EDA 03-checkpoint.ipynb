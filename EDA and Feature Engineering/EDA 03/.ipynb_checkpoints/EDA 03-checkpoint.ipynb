{
 "cells": [
  {
   "cell_type": "markdown",
   "id": "31523625",
   "metadata": {},
   "source": [
    "# Flight price prediction (EDA and Feature Engineering)"
   ]
  },
  {
   "cell_type": "code",
   "execution_count": 1,
   "id": "6e7ed9f6",
   "metadata": {},
   "outputs": [],
   "source": [
    "## import libraries\n",
    "import pandas as pd\n",
    "import numpy as np\n",
    "import matplotlib.pyplot as plt\n",
    "import seaborn as sns\n",
    "%matplotlib inline"
   ]
  },
  {
   "cell_type": "raw",
   "id": "5af3d233",
   "metadata": {},
   "source": []
  },
  {
   "cell_type": "code",
   "execution_count": null,
   "id": "825f6ab5",
   "metadata": {},
   "outputs": [],
   "source": []
  },
  {
   "cell_type": "code",
   "execution_count": null,
   "id": "dfe7fb2c",
   "metadata": {},
   "outputs": [],
   "source": [
    "df_train = pd.read_xlsx(\"\")"
   ]
  }
 ],
 "metadata": {
  "kernelspec": {
   "display_name": "Python 3 (ipykernel)",
   "language": "python",
   "name": "python3"
  },
  "language_info": {
   "codemirror_mode": {
    "name": "ipython",
    "version": 3
   },
   "file_extension": ".py",
   "mimetype": "text/x-python",
   "name": "python",
   "nbconvert_exporter": "python",
   "pygments_lexer": "ipython3",
   "version": "3.10.9"
  }
 },
 "nbformat": 4,
 "nbformat_minor": 5
}
