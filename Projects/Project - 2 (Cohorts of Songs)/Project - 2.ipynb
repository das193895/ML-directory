{
 "cells": [
  {
   "cell_type": "markdown",
   "id": "43244ae3",
   "metadata": {},
   "source": [
    "# Course-End Project: Creating Cohorts of Songs"
   ]
  },
  {
   "cell_type": "code",
   "execution_count": 1,
   "id": "3613ed55",
   "metadata": {},
   "outputs": [],
   "source": [
    "## Import all Libraries\n",
    "import pandas as pd\n",
    "import numpy as np\n",
    "import matplotlib.pyplot as plt\n",
    "import seaborn as sns\n",
    "%matplotlib inline\n",
    "import warnings\n",
    "warnings.filterwarnings(\"ignore\")"
   ]
  },
  {
   "cell_type": "markdown",
   "id": "444fc313",
   "metadata": {},
   "source": [
    "## Data preprocessing and Visualisation"
   ]
  },
  {
   "cell_type": "code",
   "execution_count": 2,
   "id": "e6f9c2a0",
   "metadata": {},
   "outputs": [
    {
     "data": {
      "text/html": [
       "<div>\n",
       "<style scoped>\n",
       "    .dataframe tbody tr th:only-of-type {\n",
       "        vertical-align: middle;\n",
       "    }\n",
       "\n",
       "    .dataframe tbody tr th {\n",
       "        vertical-align: top;\n",
       "    }\n",
       "\n",
       "    .dataframe thead th {\n",
       "        text-align: right;\n",
       "    }\n",
       "</style>\n",
       "<table border=\"1\" class=\"dataframe\">\n",
       "  <thead>\n",
       "    <tr style=\"text-align: right;\">\n",
       "      <th></th>\n",
       "      <th>Unnamed: 0</th>\n",
       "      <th>name</th>\n",
       "      <th>album</th>\n",
       "      <th>release_date</th>\n",
       "      <th>track_number</th>\n",
       "      <th>id</th>\n",
       "      <th>uri</th>\n",
       "      <th>acousticness</th>\n",
       "      <th>danceability</th>\n",
       "      <th>energy</th>\n",
       "      <th>instrumentalness</th>\n",
       "      <th>liveness</th>\n",
       "      <th>loudness</th>\n",
       "      <th>speechiness</th>\n",
       "      <th>tempo</th>\n",
       "      <th>valence</th>\n",
       "      <th>popularity</th>\n",
       "      <th>duration_ms</th>\n",
       "    </tr>\n",
       "  </thead>\n",
       "  <tbody>\n",
       "    <tr>\n",
       "      <th>0</th>\n",
       "      <td>0</td>\n",
       "      <td>Concert Intro Music - Live</td>\n",
       "      <td>Licked Live In NYC</td>\n",
       "      <td>2022-06-10</td>\n",
       "      <td>1</td>\n",
       "      <td>2IEkywLJ4ykbhi1yRQvmsT</td>\n",
       "      <td>spotify:track:2IEkywLJ4ykbhi1yRQvmsT</td>\n",
       "      <td>0.0824</td>\n",
       "      <td>0.463</td>\n",
       "      <td>0.993</td>\n",
       "      <td>0.996000</td>\n",
       "      <td>0.932</td>\n",
       "      <td>-12.913</td>\n",
       "      <td>0.1100</td>\n",
       "      <td>118.001</td>\n",
       "      <td>0.0302</td>\n",
       "      <td>33</td>\n",
       "      <td>48640</td>\n",
       "    </tr>\n",
       "    <tr>\n",
       "      <th>1</th>\n",
       "      <td>1</td>\n",
       "      <td>Street Fighting Man - Live</td>\n",
       "      <td>Licked Live In NYC</td>\n",
       "      <td>2022-06-10</td>\n",
       "      <td>2</td>\n",
       "      <td>6GVgVJBKkGJoRfarYRvGTU</td>\n",
       "      <td>spotify:track:6GVgVJBKkGJoRfarYRvGTU</td>\n",
       "      <td>0.4370</td>\n",
       "      <td>0.326</td>\n",
       "      <td>0.965</td>\n",
       "      <td>0.233000</td>\n",
       "      <td>0.961</td>\n",
       "      <td>-4.803</td>\n",
       "      <td>0.0759</td>\n",
       "      <td>131.455</td>\n",
       "      <td>0.3180</td>\n",
       "      <td>34</td>\n",
       "      <td>253173</td>\n",
       "    </tr>\n",
       "    <tr>\n",
       "      <th>2</th>\n",
       "      <td>2</td>\n",
       "      <td>Start Me Up - Live</td>\n",
       "      <td>Licked Live In NYC</td>\n",
       "      <td>2022-06-10</td>\n",
       "      <td>3</td>\n",
       "      <td>1Lu761pZ0dBTGpzxaQoZNW</td>\n",
       "      <td>spotify:track:1Lu761pZ0dBTGpzxaQoZNW</td>\n",
       "      <td>0.4160</td>\n",
       "      <td>0.386</td>\n",
       "      <td>0.969</td>\n",
       "      <td>0.400000</td>\n",
       "      <td>0.956</td>\n",
       "      <td>-4.936</td>\n",
       "      <td>0.1150</td>\n",
       "      <td>130.066</td>\n",
       "      <td>0.3130</td>\n",
       "      <td>34</td>\n",
       "      <td>263160</td>\n",
       "    </tr>\n",
       "    <tr>\n",
       "      <th>3</th>\n",
       "      <td>3</td>\n",
       "      <td>If You Can't Rock Me - Live</td>\n",
       "      <td>Licked Live In NYC</td>\n",
       "      <td>2022-06-10</td>\n",
       "      <td>4</td>\n",
       "      <td>1agTQzOTUnGNggyckEqiDH</td>\n",
       "      <td>spotify:track:1agTQzOTUnGNggyckEqiDH</td>\n",
       "      <td>0.5670</td>\n",
       "      <td>0.369</td>\n",
       "      <td>0.985</td>\n",
       "      <td>0.000107</td>\n",
       "      <td>0.895</td>\n",
       "      <td>-5.535</td>\n",
       "      <td>0.1930</td>\n",
       "      <td>132.994</td>\n",
       "      <td>0.1470</td>\n",
       "      <td>32</td>\n",
       "      <td>305880</td>\n",
       "    </tr>\n",
       "    <tr>\n",
       "      <th>4</th>\n",
       "      <td>4</td>\n",
       "      <td>Donâ€™t Stop - Live</td>\n",
       "      <td>Licked Live In NYC</td>\n",
       "      <td>2022-06-10</td>\n",
       "      <td>5</td>\n",
       "      <td>7piGJR8YndQBQWVXv6KtQw</td>\n",
       "      <td>spotify:track:7piGJR8YndQBQWVXv6KtQw</td>\n",
       "      <td>0.4000</td>\n",
       "      <td>0.303</td>\n",
       "      <td>0.969</td>\n",
       "      <td>0.055900</td>\n",
       "      <td>0.966</td>\n",
       "      <td>-5.098</td>\n",
       "      <td>0.0930</td>\n",
       "      <td>130.533</td>\n",
       "      <td>0.2060</td>\n",
       "      <td>32</td>\n",
       "      <td>305106</td>\n",
       "    </tr>\n",
       "    <tr>\n",
       "      <th>5</th>\n",
       "      <td>5</td>\n",
       "      <td>Monkey Man - Live</td>\n",
       "      <td>Licked Live In NYC</td>\n",
       "      <td>2022-06-10</td>\n",
       "      <td>6</td>\n",
       "      <td>3ixZ1NQk5sqvBZgWeIdiqr</td>\n",
       "      <td>spotify:track:3ixZ1NQk5sqvBZgWeIdiqr</td>\n",
       "      <td>0.2750</td>\n",
       "      <td>0.340</td>\n",
       "      <td>0.956</td>\n",
       "      <td>0.125000</td>\n",
       "      <td>0.741</td>\n",
       "      <td>-5.539</td>\n",
       "      <td>0.0915</td>\n",
       "      <td>101.628</td>\n",
       "      <td>0.1250</td>\n",
       "      <td>31</td>\n",
       "      <td>244293</td>\n",
       "    </tr>\n",
       "    <tr>\n",
       "      <th>6</th>\n",
       "      <td>6</td>\n",
       "      <td>Angie - Live</td>\n",
       "      <td>Licked Live In NYC</td>\n",
       "      <td>2022-06-10</td>\n",
       "      <td>7</td>\n",
       "      <td>3R1Vq1RS6mWNSD2oni6jNf</td>\n",
       "      <td>spotify:track:3R1Vq1RS6mWNSD2oni6jNf</td>\n",
       "      <td>0.5610</td>\n",
       "      <td>0.262</td>\n",
       "      <td>0.810</td>\n",
       "      <td>0.000003</td>\n",
       "      <td>0.972</td>\n",
       "      <td>-6.851</td>\n",
       "      <td>0.0969</td>\n",
       "      <td>77.520</td>\n",
       "      <td>0.3940</td>\n",
       "      <td>31</td>\n",
       "      <td>245506</td>\n",
       "    </tr>\n",
       "  </tbody>\n",
       "</table>\n",
       "</div>"
      ],
      "text/plain": [
       "   Unnamed: 0                         name               album release_date  \\\n",
       "0           0   Concert Intro Music - Live  Licked Live In NYC   2022-06-10   \n",
       "1           1   Street Fighting Man - Live  Licked Live In NYC   2022-06-10   \n",
       "2           2           Start Me Up - Live  Licked Live In NYC   2022-06-10   \n",
       "3           3  If You Can't Rock Me - Live  Licked Live In NYC   2022-06-10   \n",
       "4           4          Donâ€™t Stop - Live  Licked Live In NYC   2022-06-10   \n",
       "5           5            Monkey Man - Live  Licked Live In NYC   2022-06-10   \n",
       "6           6                 Angie - Live  Licked Live In NYC   2022-06-10   \n",
       "\n",
       "   track_number                      id                                   uri  \\\n",
       "0             1  2IEkywLJ4ykbhi1yRQvmsT  spotify:track:2IEkywLJ4ykbhi1yRQvmsT   \n",
       "1             2  6GVgVJBKkGJoRfarYRvGTU  spotify:track:6GVgVJBKkGJoRfarYRvGTU   \n",
       "2             3  1Lu761pZ0dBTGpzxaQoZNW  spotify:track:1Lu761pZ0dBTGpzxaQoZNW   \n",
       "3             4  1agTQzOTUnGNggyckEqiDH  spotify:track:1agTQzOTUnGNggyckEqiDH   \n",
       "4             5  7piGJR8YndQBQWVXv6KtQw  spotify:track:7piGJR8YndQBQWVXv6KtQw   \n",
       "5             6  3ixZ1NQk5sqvBZgWeIdiqr  spotify:track:3ixZ1NQk5sqvBZgWeIdiqr   \n",
       "6             7  3R1Vq1RS6mWNSD2oni6jNf  spotify:track:3R1Vq1RS6mWNSD2oni6jNf   \n",
       "\n",
       "   acousticness  danceability  energy  instrumentalness  liveness  loudness  \\\n",
       "0        0.0824         0.463   0.993          0.996000     0.932   -12.913   \n",
       "1        0.4370         0.326   0.965          0.233000     0.961    -4.803   \n",
       "2        0.4160         0.386   0.969          0.400000     0.956    -4.936   \n",
       "3        0.5670         0.369   0.985          0.000107     0.895    -5.535   \n",
       "4        0.4000         0.303   0.969          0.055900     0.966    -5.098   \n",
       "5        0.2750         0.340   0.956          0.125000     0.741    -5.539   \n",
       "6        0.5610         0.262   0.810          0.000003     0.972    -6.851   \n",
       "\n",
       "   speechiness    tempo  valence  popularity  duration_ms  \n",
       "0       0.1100  118.001   0.0302          33        48640  \n",
       "1       0.0759  131.455   0.3180          34       253173  \n",
       "2       0.1150  130.066   0.3130          34       263160  \n",
       "3       0.1930  132.994   0.1470          32       305880  \n",
       "4       0.0930  130.533   0.2060          32       305106  \n",
       "5       0.0915  101.628   0.1250          31       244293  \n",
       "6       0.0969   77.520   0.3940          31       245506  "
      ]
     },
     "execution_count": 2,
     "metadata": {},
     "output_type": "execute_result"
    }
   ],
   "source": [
    "## read the data\n",
    "df = pd.read_excel(\"1673873388_rolling_stones_spotify.xlsx\")\n",
    "df.head(7)"
   ]
  },
  {
   "cell_type": "code",
   "execution_count": 3,
   "id": "46837df3",
   "metadata": {},
   "outputs": [
    {
     "data": {
      "text/html": [
       "<div>\n",
       "<style scoped>\n",
       "    .dataframe tbody tr th:only-of-type {\n",
       "        vertical-align: middle;\n",
       "    }\n",
       "\n",
       "    .dataframe tbody tr th {\n",
       "        vertical-align: top;\n",
       "    }\n",
       "\n",
       "    .dataframe thead th {\n",
       "        text-align: right;\n",
       "    }\n",
       "</style>\n",
       "<table border=\"1\" class=\"dataframe\">\n",
       "  <thead>\n",
       "    <tr style=\"text-align: right;\">\n",
       "      <th></th>\n",
       "      <th>Unnamed: 0</th>\n",
       "      <th>name</th>\n",
       "      <th>album</th>\n",
       "      <th>release_date</th>\n",
       "      <th>track_number</th>\n",
       "      <th>id</th>\n",
       "      <th>uri</th>\n",
       "      <th>acousticness</th>\n",
       "      <th>danceability</th>\n",
       "      <th>energy</th>\n",
       "      <th>instrumentalness</th>\n",
       "      <th>liveness</th>\n",
       "      <th>loudness</th>\n",
       "      <th>speechiness</th>\n",
       "      <th>tempo</th>\n",
       "      <th>valence</th>\n",
       "      <th>popularity</th>\n",
       "      <th>duration_ms</th>\n",
       "    </tr>\n",
       "  </thead>\n",
       "  <tbody>\n",
       "    <tr>\n",
       "      <th>1605</th>\n",
       "      <td>1605</td>\n",
       "      <td>Carol</td>\n",
       "      <td>The Rolling Stones</td>\n",
       "      <td>1964-04-16</td>\n",
       "      <td>8</td>\n",
       "      <td>08l7M5UpRnffGl0FyuRiQZ</td>\n",
       "      <td>spotify:track:08l7M5UpRnffGl0FyuRiQZ</td>\n",
       "      <td>0.1570</td>\n",
       "      <td>0.466</td>\n",
       "      <td>0.932</td>\n",
       "      <td>0.006170</td>\n",
       "      <td>0.3240</td>\n",
       "      <td>-9.214</td>\n",
       "      <td>0.0429</td>\n",
       "      <td>177.340</td>\n",
       "      <td>0.967</td>\n",
       "      <td>39</td>\n",
       "      <td>154080</td>\n",
       "    </tr>\n",
       "    <tr>\n",
       "      <th>1606</th>\n",
       "      <td>1606</td>\n",
       "      <td>Tell Me</td>\n",
       "      <td>The Rolling Stones</td>\n",
       "      <td>1964-04-16</td>\n",
       "      <td>9</td>\n",
       "      <td>3JZllQBsTM6WwoJdzFDLhx</td>\n",
       "      <td>spotify:track:3JZllQBsTM6WwoJdzFDLhx</td>\n",
       "      <td>0.0576</td>\n",
       "      <td>0.509</td>\n",
       "      <td>0.706</td>\n",
       "      <td>0.000002</td>\n",
       "      <td>0.5160</td>\n",
       "      <td>-9.427</td>\n",
       "      <td>0.0843</td>\n",
       "      <td>122.015</td>\n",
       "      <td>0.446</td>\n",
       "      <td>36</td>\n",
       "      <td>245266</td>\n",
       "    </tr>\n",
       "    <tr>\n",
       "      <th>1607</th>\n",
       "      <td>1607</td>\n",
       "      <td>Can I Get A Witness</td>\n",
       "      <td>The Rolling Stones</td>\n",
       "      <td>1964-04-16</td>\n",
       "      <td>10</td>\n",
       "      <td>0t2qvfSBQ3Y08lzRRoVTdb</td>\n",
       "      <td>spotify:track:0t2qvfSBQ3Y08lzRRoVTdb</td>\n",
       "      <td>0.3710</td>\n",
       "      <td>0.790</td>\n",
       "      <td>0.774</td>\n",
       "      <td>0.000000</td>\n",
       "      <td>0.0669</td>\n",
       "      <td>-7.961</td>\n",
       "      <td>0.0720</td>\n",
       "      <td>97.035</td>\n",
       "      <td>0.835</td>\n",
       "      <td>30</td>\n",
       "      <td>176080</td>\n",
       "    </tr>\n",
       "    <tr>\n",
       "      <th>1608</th>\n",
       "      <td>1608</td>\n",
       "      <td>You Can Make It If You Try</td>\n",
       "      <td>The Rolling Stones</td>\n",
       "      <td>1964-04-16</td>\n",
       "      <td>11</td>\n",
       "      <td>5ivIs5vwSj0RChOIvlY3On</td>\n",
       "      <td>spotify:track:5ivIs5vwSj0RChOIvlY3On</td>\n",
       "      <td>0.2170</td>\n",
       "      <td>0.700</td>\n",
       "      <td>0.546</td>\n",
       "      <td>0.000070</td>\n",
       "      <td>0.1660</td>\n",
       "      <td>-9.567</td>\n",
       "      <td>0.0622</td>\n",
       "      <td>102.634</td>\n",
       "      <td>0.532</td>\n",
       "      <td>27</td>\n",
       "      <td>121680</td>\n",
       "    </tr>\n",
       "    <tr>\n",
       "      <th>1609</th>\n",
       "      <td>1609</td>\n",
       "      <td>Walking The Dog</td>\n",
       "      <td>The Rolling Stones</td>\n",
       "      <td>1964-04-16</td>\n",
       "      <td>12</td>\n",
       "      <td>43SkTJJ2xleDaeiE4TIM70</td>\n",
       "      <td>spotify:track:43SkTJJ2xleDaeiE4TIM70</td>\n",
       "      <td>0.3830</td>\n",
       "      <td>0.727</td>\n",
       "      <td>0.934</td>\n",
       "      <td>0.068500</td>\n",
       "      <td>0.0965</td>\n",
       "      <td>-8.373</td>\n",
       "      <td>0.0359</td>\n",
       "      <td>125.275</td>\n",
       "      <td>0.969</td>\n",
       "      <td>35</td>\n",
       "      <td>189186</td>\n",
       "    </tr>\n",
       "  </tbody>\n",
       "</table>\n",
       "</div>"
      ],
      "text/plain": [
       "      Unnamed: 0                        name               album release_date  \\\n",
       "1605        1605                       Carol  The Rolling Stones   1964-04-16   \n",
       "1606        1606                     Tell Me  The Rolling Stones   1964-04-16   \n",
       "1607        1607         Can I Get A Witness  The Rolling Stones   1964-04-16   \n",
       "1608        1608  You Can Make It If You Try  The Rolling Stones   1964-04-16   \n",
       "1609        1609             Walking The Dog  The Rolling Stones   1964-04-16   \n",
       "\n",
       "      track_number                      id  \\\n",
       "1605             8  08l7M5UpRnffGl0FyuRiQZ   \n",
       "1606             9  3JZllQBsTM6WwoJdzFDLhx   \n",
       "1607            10  0t2qvfSBQ3Y08lzRRoVTdb   \n",
       "1608            11  5ivIs5vwSj0RChOIvlY3On   \n",
       "1609            12  43SkTJJ2xleDaeiE4TIM70   \n",
       "\n",
       "                                       uri  acousticness  danceability  \\\n",
       "1605  spotify:track:08l7M5UpRnffGl0FyuRiQZ        0.1570         0.466   \n",
       "1606  spotify:track:3JZllQBsTM6WwoJdzFDLhx        0.0576         0.509   \n",
       "1607  spotify:track:0t2qvfSBQ3Y08lzRRoVTdb        0.3710         0.790   \n",
       "1608  spotify:track:5ivIs5vwSj0RChOIvlY3On        0.2170         0.700   \n",
       "1609  spotify:track:43SkTJJ2xleDaeiE4TIM70        0.3830         0.727   \n",
       "\n",
       "      energy  instrumentalness  liveness  loudness  speechiness    tempo  \\\n",
       "1605   0.932          0.006170    0.3240    -9.214       0.0429  177.340   \n",
       "1606   0.706          0.000002    0.5160    -9.427       0.0843  122.015   \n",
       "1607   0.774          0.000000    0.0669    -7.961       0.0720   97.035   \n",
       "1608   0.546          0.000070    0.1660    -9.567       0.0622  102.634   \n",
       "1609   0.934          0.068500    0.0965    -8.373       0.0359  125.275   \n",
       "\n",
       "      valence  popularity  duration_ms  \n",
       "1605    0.967          39       154080  \n",
       "1606    0.446          36       245266  \n",
       "1607    0.835          30       176080  \n",
       "1608    0.532          27       121680  \n",
       "1609    0.969          35       189186  "
      ]
     },
     "execution_count": 3,
     "metadata": {},
     "output_type": "execute_result"
    }
   ],
   "source": [
    "df.tail()"
   ]
  },
  {
   "cell_type": "code",
   "execution_count": 4,
   "id": "ea630136",
   "metadata": {},
   "outputs": [
    {
     "data": {
      "text/html": [
       "<div>\n",
       "<style scoped>\n",
       "    .dataframe tbody tr th:only-of-type {\n",
       "        vertical-align: middle;\n",
       "    }\n",
       "\n",
       "    .dataframe tbody tr th {\n",
       "        vertical-align: top;\n",
       "    }\n",
       "\n",
       "    .dataframe thead th {\n",
       "        text-align: right;\n",
       "    }\n",
       "</style>\n",
       "<table border=\"1\" class=\"dataframe\">\n",
       "  <thead>\n",
       "    <tr style=\"text-align: right;\">\n",
       "      <th></th>\n",
       "      <th>count</th>\n",
       "      <th>mean</th>\n",
       "      <th>std</th>\n",
       "      <th>min</th>\n",
       "      <th>25%</th>\n",
       "      <th>50%</th>\n",
       "      <th>75%</th>\n",
       "      <th>max</th>\n",
       "    </tr>\n",
       "  </thead>\n",
       "  <tbody>\n",
       "    <tr>\n",
       "      <th>Unnamed: 0</th>\n",
       "      <td>1610.0</td>\n",
       "      <td>804.500000</td>\n",
       "      <td>464.911282</td>\n",
       "      <td>0.000000</td>\n",
       "      <td>402.250000</td>\n",
       "      <td>804.50000</td>\n",
       "      <td>1206.75000</td>\n",
       "      <td>1609.000</td>\n",
       "    </tr>\n",
       "    <tr>\n",
       "      <th>track_number</th>\n",
       "      <td>1610.0</td>\n",
       "      <td>8.613665</td>\n",
       "      <td>6.560220</td>\n",
       "      <td>1.000000</td>\n",
       "      <td>4.000000</td>\n",
       "      <td>7.00000</td>\n",
       "      <td>11.00000</td>\n",
       "      <td>47.000</td>\n",
       "    </tr>\n",
       "    <tr>\n",
       "      <th>acousticness</th>\n",
       "      <td>1610.0</td>\n",
       "      <td>0.250475</td>\n",
       "      <td>0.227397</td>\n",
       "      <td>0.000009</td>\n",
       "      <td>0.058350</td>\n",
       "      <td>0.18300</td>\n",
       "      <td>0.40375</td>\n",
       "      <td>0.994</td>\n",
       "    </tr>\n",
       "    <tr>\n",
       "      <th>danceability</th>\n",
       "      <td>1610.0</td>\n",
       "      <td>0.468860</td>\n",
       "      <td>0.141775</td>\n",
       "      <td>0.104000</td>\n",
       "      <td>0.362250</td>\n",
       "      <td>0.45800</td>\n",
       "      <td>0.57800</td>\n",
       "      <td>0.887</td>\n",
       "    </tr>\n",
       "    <tr>\n",
       "      <th>energy</th>\n",
       "      <td>1610.0</td>\n",
       "      <td>0.792352</td>\n",
       "      <td>0.179886</td>\n",
       "      <td>0.141000</td>\n",
       "      <td>0.674000</td>\n",
       "      <td>0.84850</td>\n",
       "      <td>0.94500</td>\n",
       "      <td>0.999</td>\n",
       "    </tr>\n",
       "    <tr>\n",
       "      <th>instrumentalness</th>\n",
       "      <td>1610.0</td>\n",
       "      <td>0.164170</td>\n",
       "      <td>0.276249</td>\n",
       "      <td>0.000000</td>\n",
       "      <td>0.000219</td>\n",
       "      <td>0.01375</td>\n",
       "      <td>0.17900</td>\n",
       "      <td>0.996</td>\n",
       "    </tr>\n",
       "    <tr>\n",
       "      <th>liveness</th>\n",
       "      <td>1610.0</td>\n",
       "      <td>0.491730</td>\n",
       "      <td>0.349100</td>\n",
       "      <td>0.021900</td>\n",
       "      <td>0.153000</td>\n",
       "      <td>0.37950</td>\n",
       "      <td>0.89375</td>\n",
       "      <td>0.998</td>\n",
       "    </tr>\n",
       "    <tr>\n",
       "      <th>loudness</th>\n",
       "      <td>1610.0</td>\n",
       "      <td>-6.971615</td>\n",
       "      <td>2.994003</td>\n",
       "      <td>-24.408000</td>\n",
       "      <td>-8.982500</td>\n",
       "      <td>-6.52300</td>\n",
       "      <td>-4.60875</td>\n",
       "      <td>-1.014</td>\n",
       "    </tr>\n",
       "    <tr>\n",
       "      <th>speechiness</th>\n",
       "      <td>1610.0</td>\n",
       "      <td>0.069512</td>\n",
       "      <td>0.051631</td>\n",
       "      <td>0.023200</td>\n",
       "      <td>0.036500</td>\n",
       "      <td>0.05120</td>\n",
       "      <td>0.08660</td>\n",
       "      <td>0.624</td>\n",
       "    </tr>\n",
       "    <tr>\n",
       "      <th>tempo</th>\n",
       "      <td>1610.0</td>\n",
       "      <td>126.082033</td>\n",
       "      <td>29.233483</td>\n",
       "      <td>46.525000</td>\n",
       "      <td>107.390750</td>\n",
       "      <td>124.40450</td>\n",
       "      <td>142.35575</td>\n",
       "      <td>216.304</td>\n",
       "    </tr>\n",
       "    <tr>\n",
       "      <th>valence</th>\n",
       "      <td>1610.0</td>\n",
       "      <td>0.582165</td>\n",
       "      <td>0.231253</td>\n",
       "      <td>0.000000</td>\n",
       "      <td>0.404250</td>\n",
       "      <td>0.58300</td>\n",
       "      <td>0.77800</td>\n",
       "      <td>0.974</td>\n",
       "    </tr>\n",
       "    <tr>\n",
       "      <th>popularity</th>\n",
       "      <td>1610.0</td>\n",
       "      <td>20.788199</td>\n",
       "      <td>12.426859</td>\n",
       "      <td>0.000000</td>\n",
       "      <td>13.000000</td>\n",
       "      <td>20.00000</td>\n",
       "      <td>27.00000</td>\n",
       "      <td>80.000</td>\n",
       "    </tr>\n",
       "    <tr>\n",
       "      <th>duration_ms</th>\n",
       "      <td>1610.0</td>\n",
       "      <td>257736.488199</td>\n",
       "      <td>108333.474920</td>\n",
       "      <td>21000.000000</td>\n",
       "      <td>190613.000000</td>\n",
       "      <td>243093.00000</td>\n",
       "      <td>295319.75000</td>\n",
       "      <td>981866.000</td>\n",
       "    </tr>\n",
       "  </tbody>\n",
       "</table>\n",
       "</div>"
      ],
      "text/plain": [
       "                   count           mean            std           min  \\\n",
       "Unnamed: 0        1610.0     804.500000     464.911282      0.000000   \n",
       "track_number      1610.0       8.613665       6.560220      1.000000   \n",
       "acousticness      1610.0       0.250475       0.227397      0.000009   \n",
       "danceability      1610.0       0.468860       0.141775      0.104000   \n",
       "energy            1610.0       0.792352       0.179886      0.141000   \n",
       "instrumentalness  1610.0       0.164170       0.276249      0.000000   \n",
       "liveness          1610.0       0.491730       0.349100      0.021900   \n",
       "loudness          1610.0      -6.971615       2.994003    -24.408000   \n",
       "speechiness       1610.0       0.069512       0.051631      0.023200   \n",
       "tempo             1610.0     126.082033      29.233483     46.525000   \n",
       "valence           1610.0       0.582165       0.231253      0.000000   \n",
       "popularity        1610.0      20.788199      12.426859      0.000000   \n",
       "duration_ms       1610.0  257736.488199  108333.474920  21000.000000   \n",
       "\n",
       "                            25%           50%           75%         max  \n",
       "Unnamed: 0           402.250000     804.50000    1206.75000    1609.000  \n",
       "track_number           4.000000       7.00000      11.00000      47.000  \n",
       "acousticness           0.058350       0.18300       0.40375       0.994  \n",
       "danceability           0.362250       0.45800       0.57800       0.887  \n",
       "energy                 0.674000       0.84850       0.94500       0.999  \n",
       "instrumentalness       0.000219       0.01375       0.17900       0.996  \n",
       "liveness               0.153000       0.37950       0.89375       0.998  \n",
       "loudness              -8.982500      -6.52300      -4.60875      -1.014  \n",
       "speechiness            0.036500       0.05120       0.08660       0.624  \n",
       "tempo                107.390750     124.40450     142.35575     216.304  \n",
       "valence                0.404250       0.58300       0.77800       0.974  \n",
       "popularity            13.000000      20.00000      27.00000      80.000  \n",
       "duration_ms       190613.000000  243093.00000  295319.75000  981866.000  "
      ]
     },
     "execution_count": 4,
     "metadata": {},
     "output_type": "execute_result"
    }
   ],
   "source": [
    "df.describe().T"
   ]
  },
  {
   "cell_type": "code",
   "execution_count": 5,
   "id": "e495e3ee",
   "metadata": {},
   "outputs": [
    {
     "data": {
      "text/plain": [
       "(1610, 18)"
      ]
     },
     "execution_count": 5,
     "metadata": {},
     "output_type": "execute_result"
    }
   ],
   "source": [
    "df.shape  ## 1610 rows and 18 columns"
   ]
  },
  {
   "cell_type": "code",
   "execution_count": 6,
   "id": "a3f7565e",
   "metadata": {},
   "outputs": [
    {
     "data": {
      "text/plain": [
       "28980"
      ]
     },
     "execution_count": 6,
     "metadata": {},
     "output_type": "execute_result"
    }
   ],
   "source": [
    "df.size"
   ]
  },
  {
   "cell_type": "code",
   "execution_count": 7,
   "id": "e3ad833e",
   "metadata": {},
   "outputs": [
    {
     "data": {
      "text/html": [
       "<div>\n",
       "<style scoped>\n",
       "    .dataframe tbody tr th:only-of-type {\n",
       "        vertical-align: middle;\n",
       "    }\n",
       "\n",
       "    .dataframe tbody tr th {\n",
       "        vertical-align: top;\n",
       "    }\n",
       "\n",
       "    .dataframe thead th {\n",
       "        text-align: right;\n",
       "    }\n",
       "</style>\n",
       "<table border=\"1\" class=\"dataframe\">\n",
       "  <thead>\n",
       "    <tr style=\"text-align: right;\">\n",
       "      <th></th>\n",
       "      <th>Unnamed: 0</th>\n",
       "      <th>name</th>\n",
       "      <th>album</th>\n",
       "      <th>release_date</th>\n",
       "      <th>track_number</th>\n",
       "      <th>id</th>\n",
       "      <th>uri</th>\n",
       "      <th>acousticness</th>\n",
       "      <th>danceability</th>\n",
       "      <th>energy</th>\n",
       "      <th>instrumentalness</th>\n",
       "      <th>liveness</th>\n",
       "      <th>loudness</th>\n",
       "      <th>speechiness</th>\n",
       "      <th>tempo</th>\n",
       "      <th>valence</th>\n",
       "      <th>popularity</th>\n",
       "      <th>duration_ms</th>\n",
       "    </tr>\n",
       "  </thead>\n",
       "  <tbody>\n",
       "  </tbody>\n",
       "</table>\n",
       "</div>"
      ],
      "text/plain": [
       "Empty DataFrame\n",
       "Columns: [Unnamed: 0, name, album, release_date, track_number, id, uri, acousticness, danceability, energy, instrumentalness, liveness, loudness, speechiness, tempo, valence, popularity, duration_ms]\n",
       "Index: []"
      ]
     },
     "execution_count": 7,
     "metadata": {},
     "output_type": "execute_result"
    }
   ],
   "source": [
    "df[df.duplicated()]   ## There is no duplicate row"
   ]
  },
  {
   "cell_type": "code",
   "execution_count": 8,
   "id": "1b9a0b5b",
   "metadata": {},
   "outputs": [
    {
     "data": {
      "text/plain": [
       "Unnamed: 0          0\n",
       "name                0\n",
       "album               0\n",
       "release_date        0\n",
       "track_number        0\n",
       "id                  0\n",
       "uri                 0\n",
       "acousticness        0\n",
       "danceability        0\n",
       "energy              0\n",
       "instrumentalness    0\n",
       "liveness            0\n",
       "loudness            0\n",
       "speechiness         0\n",
       "tempo               0\n",
       "valence             0\n",
       "popularity          0\n",
       "duration_ms         0\n",
       "dtype: int64"
      ]
     },
     "execution_count": 8,
     "metadata": {},
     "output_type": "execute_result"
    }
   ],
   "source": [
    "df.isnull().sum()    ## There are no missing values"
   ]
  },
  {
   "cell_type": "code",
   "execution_count": 9,
   "id": "d0581f0c",
   "metadata": {},
   "outputs": [],
   "source": [
    "df[[\"duration_ms\"]]  = df[[\"duration_ms\"]] / 1000   ## converting mili seconds to seconds"
   ]
  },
  {
   "cell_type": "code",
   "execution_count": 10,
   "id": "b408036d",
   "metadata": {},
   "outputs": [],
   "source": [
    "df.drop([\"Unnamed: 0\",\"id\",\"uri\"],axis = 1,inplace = True)  ## dropping irrelevant columns"
   ]
  },
  {
   "cell_type": "code",
   "execution_count": 11,
   "id": "4353db9f",
   "metadata": {},
   "outputs": [
    {
     "data": {
      "text/plain": [
       "Index(['name', 'album', 'release_date', 'track_number', 'acousticness',\n",
       "       'danceability', 'energy', 'instrumentalness', 'liveness', 'loudness',\n",
       "       'speechiness', 'tempo', 'valence', 'popularity', 'duration_ms'],\n",
       "      dtype='object')"
      ]
     },
     "execution_count": 11,
     "metadata": {},
     "output_type": "execute_result"
    }
   ],
   "source": [
    "columns = df.columns\n",
    "columns"
   ]
  },
  {
   "cell_type": "code",
   "execution_count": 12,
   "id": "367734f1",
   "metadata": {},
   "outputs": [
    {
     "name": "stdout",
     "output_type": "stream",
     "text": [
      "<class 'pandas.core.frame.DataFrame'>\n",
      "RangeIndex: 1610 entries, 0 to 1609\n",
      "Data columns (total 15 columns):\n",
      " #   Column            Non-Null Count  Dtype         \n",
      "---  ------            --------------  -----         \n",
      " 0   name              1610 non-null   object        \n",
      " 1   album             1610 non-null   object        \n",
      " 2   release_date      1610 non-null   datetime64[ns]\n",
      " 3   track_number      1610 non-null   int64         \n",
      " 4   acousticness      1610 non-null   float64       \n",
      " 5   danceability      1610 non-null   float64       \n",
      " 6   energy            1610 non-null   float64       \n",
      " 7   instrumentalness  1610 non-null   float64       \n",
      " 8   liveness          1610 non-null   float64       \n",
      " 9   loudness          1610 non-null   float64       \n",
      " 10  speechiness       1610 non-null   float64       \n",
      " 11  tempo             1610 non-null   float64       \n",
      " 12  valence           1610 non-null   float64       \n",
      " 13  popularity        1610 non-null   int64         \n",
      " 14  duration_ms       1610 non-null   float64       \n",
      "dtypes: datetime64[ns](1), float64(10), int64(2), object(2)\n",
      "memory usage: 188.8+ KB\n"
     ]
    }
   ],
   "source": [
    "df.info()"
   ]
  },
  {
   "cell_type": "code",
   "execution_count": 13,
   "id": "639c45ef",
   "metadata": {},
   "outputs": [
    {
     "data": {
      "text/plain": [
       "<Axes: >"
      ]
     },
     "execution_count": 13,
     "metadata": {},
     "output_type": "execute_result"
    },
    {
     "data": {
      "image/png": "[encoded data removed]",
      "text/plain": [
       "<Figure size 1000x600 with 1 Axes>"
      ]
     },
     "metadata": {},
     "output_type": "display_data"
    }
   ],
   "source": [
    "# checking for outliers\n",
    "plt.figure(figsize=(10,6))\n",
    "df.boxplot(column=['acousticness','danceability','energy','instrumentalness','liveness',\"speechiness\"]) "
   ]
  },
  {
   "cell_type": "code",
   "execution_count": 14,
   "id": "210dca96",
   "metadata": {},
   "outputs": [
    {
     "data": {
      "text/plain": [
       "<Axes: >"
      ]
     },
     "execution_count": 14,
     "metadata": {},
     "output_type": "execute_result"
    },
    {
     "data": {
      "image/png": "[encoded data removed]",
      "text/plain": [
       "<Figure size 1000x600 with 1 Axes>"
      ]
     },
     "metadata": {},
     "output_type": "display_data"
    }
   ],
   "source": [
    "# checking for outliers\n",
    "plt.figure(figsize=(10,6))\n",
    "df.boxplot(column=['valence',\"tempo\",\"loudness\"]) "
   ]
  },
  {
   "cell_type": "code",
   "execution_count": 15,
   "id": "4df46a23",
   "metadata": {},
   "outputs": [],
   "source": [
    "## Columns having outliers : 'acousticness' , 'energy','instrumentalness' , \"speechiness\" , \"tempo\",\"loudness\""
   ]
  },
  {
   "cell_type": "code",
   "execution_count": 16,
   "id": "f3cd3c3a",
   "metadata": {},
   "outputs": [
    {
     "name": "stdout",
     "output_type": "stream",
     "text": [
      "number of Outliers in acousticness attribute : 4\n",
      "number of Outliers in energy attribute : 8\n",
      "number of Outliers in instrumentalness attribute : 272\n",
      "number of Outliers in speechiness attribute : 92\n",
      "number of Outliers in tempo attribute : 34\n",
      "number of Outliers in loudness attribute : 14\n"
     ]
    }
   ],
   "source": [
    "# Finding values of outliers(IQR method)\n",
    "\n",
    "def detect_outliers_iqr(data):\n",
    "    outlier_list = []\n",
    "    data = sorted(data)\n",
    "    q1 = np.percentile(data, 25)\n",
    "    q3 = np.percentile(data, 75)\n",
    "    #print(\"The Val of Q1 and Q2\",q1, q3)\n",
    "    IQR = q3-q1\n",
    "    lwr_bound = q1-(1.5*IQR)\n",
    "    upr_bound = q3+(1.5*IQR)\n",
    "    #print(\"The lower & Upper Bound\",lwr_bound, upr_bound)\n",
    "    \n",
    "    for i in data: \n",
    "        if (i<lwr_bound or i>upr_bound):\n",
    "            outlier_list.append(i)\n",
    "    return outlier_list # Driver code\n",
    "\n",
    "\n",
    "\n",
    "for i in ['acousticness' , 'energy','instrumentalness' , \"speechiness\" , \"tempo\",\"loudness\"]:\n",
    "    outliers = detect_outliers_iqr(df[i])\n",
    "    print(\"number of Outliers in\",i,\"attribute :\", len(outliers))"
   ]
  },
  {
   "cell_type": "code",
   "execution_count": 17,
   "id": "0b75d5e2",
   "metadata": {},
   "outputs": [],
   "source": [
    "# Handling outliers using Quantile based flooring and capping method.\n",
    "#the outlier is capped at a certain value above the 90th percentile value or floored at a factor below the 10th percentile value\n",
    "# Computing 10th, 90th percentiles and replacing the outliers\n",
    "\n",
    "def handle_outliers(data):\n",
    "\n",
    "    tenth_percentile = np.percentile(data, 10)\n",
    "    ninetieth_percentile = np.percentile(data, 90)\n",
    "\n",
    "    b = np.where(data<tenth_percentile, tenth_percentile, data)\n",
    "\n",
    "    b1 = np.where(b>ninetieth_percentile, ninetieth_percentile, b)\n",
    "    return b1\n",
    "\n",
    "\n",
    "for i in ['acousticness','energy','speechiness','tempo','loudness']:\n",
    "    df[i]=handle_outliers(df[i])"
   ]
  },
  {
   "cell_type": "code",
   "execution_count": 18,
   "id": "196733e5",
   "metadata": {},
   "outputs": [
    {
     "data": {
      "text/plain": [
       "<Axes: >"
      ]
     },
     "execution_count": 18,
     "metadata": {},
     "output_type": "execute_result"
    },
    {
     "data": {
      "image/png": "[encoded data removed]",
      "text/plain": [
       "<Figure size 1000x600 with 1 Axes>"
      ]
     },
     "metadata": {},
     "output_type": "display_data"
    }
   ],
   "source": [
    "# checking for outliers\n",
    "plt.figure(figsize=(10,6))\n",
    "df.boxplot(column=['acousticness','danceability','energy','liveness',\"speechiness\"]) "
   ]
  },
  {
   "cell_type": "code",
   "execution_count": 19,
   "id": "d16ee551",
   "metadata": {},
   "outputs": [
    {
     "data": {
      "text/plain": [
       "<Axes: >"
      ]
     },
     "execution_count": 19,
     "metadata": {},
     "output_type": "execute_result"
    },
    {
     "data": {
      "image/png": "[encoded data removed]",
      "text/plain": [
       "<Figure size 1000x600 with 1 Axes>"
      ]
     },
     "metadata": {},
     "output_type": "display_data"
    }
   ],
   "source": [
    "# checking for outliers\n",
    "plt.figure(figsize=(10,6))\n",
    "df.boxplot(column=['valence',\"tempo\",\"loudness\"]) "
   ]
  },
  {
   "cell_type": "code",
   "execution_count": 20,
   "id": "ea719c60",
   "metadata": {},
   "outputs": [],
   "source": [
    "data = df[[\"instrumentalness\"]]\n",
    "q1 = np.percentile(data, 25)\n",
    "q3 = np.percentile(data, 75)\n",
    "\n",
    "IQR = q3-q1\n",
    "lower_limit = q1-(1.5*IQR)\n",
    "upper_limit = q3+(1.5*IQR)\n",
    "\n",
    "df[\"instrumentalness\"] = np.where(\n",
    "    df[\"instrumentalness\"] > upper_limit,\n",
    "    upper_limit,\n",
    "    np.where(\n",
    "        df[\"instrumentalness\"] < lower_limit,\n",
    "        lower_limit,\n",
    "        df[\"instrumentalness\"]\n",
    "    )\n",
    ")"
   ]
  },
  {
   "cell_type": "code",
   "execution_count": 21,
   "id": "935aecd2",
   "metadata": {},
   "outputs": [
    {
     "data": {
      "text/plain": [
       "<Axes: >"
      ]
     },
     "execution_count": 21,
     "metadata": {},
     "output_type": "execute_result"
    },
    {
     "data": {
      "image/png": "[encoded data removed]",
      "text/plain": [
       "<Figure size 1000x600 with 1 Axes>"
      ]
     },
     "metadata": {},
     "output_type": "display_data"
    }
   ],
   "source": [
    "# checking for outliers\n",
    "plt.figure(figsize=(10,6))\n",
    "df.boxplot(column=[\"instrumentalness\"]) "
   ]
  },
  {
   "cell_type": "code",
   "execution_count": 26,
   "id": "82a64756",
   "metadata": {},
   "outputs": [
    {
     "data": {
      "text/plain": [
       "Index(['name', 'album', 'release_date', 'track_number', 'acousticness',\n",
       "       'danceability', 'energy', 'instrumentalness', 'liveness', 'loudness',\n",
       "       'speechiness', 'tempo', 'valence', 'popularity', 'duration_ms'],\n",
       "      dtype='object')"
      ]
     },
     "execution_count": 26,
     "metadata": {},
     "output_type": "execute_result"
    }
   ],
   "source": [
    "columns"
   ]
  },
  {
   "cell_type": "code",
   "execution_count": 50,
   "id": "a92f31ac",
   "metadata": {},
   "outputs": [
    {
     "name": "stdout",
     "output_type": "stream",
     "text": [
      "album\n",
      "12 X 5                              32.083333\n",
      "12 x 5                               5.000000\n",
      "A Bigger Bang (2009 Re-Mastered)    27.062500\n",
      "A Bigger Bang (Live)                18.181818\n",
      "Aftermath                           43.090909\n",
      "                                      ...    \n",
      "Undercover                          18.000000\n",
      "Undercover (2009 Re-Mastered)       25.100000\n",
      "Voodoo Lounge (Remastered 2009)     34.000000\n",
      "Voodoo Lounge Uncut (Live)          11.678571\n",
      "got LIVE if you want it!            15.333333\n",
      "Name: popularity, Length: 90, dtype: float64\n"
     ]
    },
    {
     "data": {
      "image/png": "[encoded data removed]",
      "text/plain": [
       "<Figure size 400x400 with 1 Axes>"
      ]
     },
     "metadata": {},
     "output_type": "display_data"
    }
   ],
   "source": [
    "# Group by album and calculate average popularity\n",
    "album_popularity = df.groupby('album')['popularity'].mean()\n",
    "\n",
    "print(album_popularity)\n",
    "\n",
    "# Sort albums by popularity\n",
    "sorted_albums = album_popularity.sort_values(ascending=False)\n",
    "\n",
    "# Select the top two albums\n",
    "top_two_albums = sorted_albums.head(2)\n",
    "\n",
    "# Create a bar chart\n",
    "plt.figure(figsize=(4, 4))\n",
    "top_two_albums.plot(kind='bar', color=['skyblue', 'lightgreen'])\n",
    "plt.title('Top Two Albums Based on Popularity of Songs')\n",
    "plt.xlabel('Album')\n",
    "plt.ylabel('Average Popularity Score')\n",
    "plt.show()"
   ]
  },
  {
   "cell_type": "code",
   "execution_count": 49,
   "id": "4ee1bbd8",
   "metadata": {},
   "outputs": [],
   "source": [
    "# df.groupby('album').sum()\n",
    "# df.groupby('album').mean()   # it actually grouping the dataframe with respect to \"album\" and gives the mean of all data points of all the numeric columns\n",
    "# df.groupby('album')[\"popularity\"].mean()  # it actually grouping the dataframe with respect to \"album\" and gives the mean of all data points of the column"
   ]
  },
  {
   "cell_type": "code",
   "execution_count": null,
   "id": "484db7de",
   "metadata": {},
   "outputs": [],
   "source": []
  },
  {
   "cell_type": "code",
   "execution_count": null,
   "id": "a57a65dd",
   "metadata": {},
   "outputs": [],
   "source": []
  },
  {
   "cell_type": "code",
   "execution_count": null,
   "id": "22b80dbe",
   "metadata": {},
   "outputs": [],
   "source": []
  },
  {
   "cell_type": "code",
   "execution_count": null,
   "id": "a28b0ead",
   "metadata": {},
   "outputs": [],
   "source": []
  }
 ],
 "metadata": {
  "kernelspec": {
   "display_name": "Python 3 (ipykernel)",
   "language": "python",
   "name": "python3"
  },
  "language_info": {
   "codemirror_mode": {
    "name": "ipython",
    "version": 3
   },
   "file_extension": ".py",
   "mimetype": "text/x-python",
   "name": "python",
   "nbconvert_exporter": "python",
   "pygments_lexer": "ipython3",
   "version": "3.10.9"
  }
 },
 "nbformat": 4,
 "nbformat_minor": 5
}
