{
 "cells": [
  {
   "cell_type": "code",
   "execution_count": 2,
   "id": "d251759d",
   "metadata": {},
   "outputs": [
    {
     "name": "stdout",
     "output_type": "stream",
     "text": [
      "Requirement already satisfied: scipy in c:\\users\\91797\\anaconda3\\lib\\site-packages (1.11.1)\n",
      "Requirement already satisfied: numpy<1.28.0,>=1.21.6 in c:\\users\\91797\\anaconda3\\lib\\site-packages (from scipy) (1.24.3)\n"
     ]
    }
   ],
   "source": [
    "!pip install scipy"
   ]
  },
  {
   "cell_type": "markdown",
   "id": "4e291efa",
   "metadata": {},
   "source": [
    "# KNN with MNIST dataset"
   ]
  },
  {
   "cell_type": "code",
   "execution_count": 11,
   "id": "4494aed4",
   "metadata": {
    "tags": []
   },
   "outputs": [],
   "source": [
    "## Import all required libraries\n",
    "import pandas as pd\n",
    "import numpy as np\n",
    "import matplotlib.pyplot as plt\n",
    "import seaborn as sns\n",
    "%matplotlib inline\n",
    "import warnings\n",
    "warnings.filterwarnings(\"ignore\")\n",
    "import math\n",
    "import scipy.io"
   ]
  },
  {
   "cell_type": "markdown",
   "id": "d93e6370",
   "metadata": {},
   "source": [
    "## Data Gathering"
   ]
  },
  {
   "cell_type": "code",
   "execution_count": 13,
   "id": "c178f335",
   "metadata": {
    "tags": []
   },
   "outputs": [],
   "source": [
    "# Load MATLAB file\n",
    "mat_data = scipy.io.loadmat('mnistData.mat')\n",
    "\n",
    "# Convert to NumPy array\n",
    "array_data = mat_data['mnist']\n",
    "\n",
    "## storing as numpy arrays\n",
    "\n",
    "X_t = array_data['train_images'][0][0]\n",
    "train_y_arr = array_data['train_labels'][0][0]\n",
    "\n",
    "X_ts = array_data['test_images'][0][0]\n",
    "test_y_arr = array_data['test_labels'][0][0]\n",
    "\n",
    "## flattening (28*28 to 784)\n",
    "\n",
    "a = []\n",
    "for i in range (X_t.shape[2]):\n",
    "    a.append(X_t[:,:,i].flatten())\n",
    "    \n",
    "train_X_arr = np.array(a)   \n",
    "    \n",
    "c = []\n",
    "for i in range (X_ts.shape[2]):\n",
    "    c.append(X_ts[:,:,i].flatten())\n",
    "test_X_arr = np.array(c)\n",
    "\n",
    "## concatenating the training and testing data to form training and testing dataset\n",
    "\n",
    "training_data = np.concatenate((train_X_arr, train_y_arr), axis=1)\n"
   ]
  },
  {
   "cell_type": "markdown",
   "id": "dbf4a8cb-510e-45df-8818-13e400d5c8c1",
   "metadata": {},
   "source": [
    "## Normalising the given dataset"
   ]
  },
  {
   "cell_type": "code",
   "execution_count": 14,
   "id": "63f19742-5b89-46bf-921e-731ff4f4b33a",
   "metadata": {
    "tags": []
   },
   "outputs": [],
   "source": [
    "## Normalising the given data\n",
    "\n",
    "def normalize_data(data):\n",
    "    min_val = np.min(data) \n",
    "    max_val = np.max(data)\n",
    "    normalized_data = (data - min_val) / (max_val - min_val)  ## MIN-MAX normalisation\n",
    "    return normalized_data\n",
    "\n",
    "# normalized datasets\n",
    "train_X_normalized = normalize_data(train_X_arr)\n",
    "test_X_normalized = normalize_data(test_X_arr)"
   ]
  },
  {
   "cell_type": "markdown",
   "id": "1c3c8aa9-3bdd-4ab2-bb9f-d7ce7aa857a0",
   "metadata": {},
   "source": [
    "## Function for prediction with KNN"
   ]
  },
  {
   "cell_type": "code",
   "execution_count": 28,
   "id": "e037570d-8473-4e32-9fca-5079241ad170",
   "metadata": {
    "tags": []
   },
   "outputs": [],
   "source": [
    "def evaluate_class(training_X_data, training_y_data, testing_X_data,testing_y_data, k):\n",
    "    final_evaluations = []\n",
    "    \n",
    "    correct = 0.0\n",
    "\n",
    "    for test_row,y in zip(testing_X_data,testing_y_data):\n",
    "        distances = np.linalg.norm(training_X_data - test_row, axis=1)  # calculating the root mean square norm\n",
    "        sorted_indices = np.argsort(distances)[:k]   # sorting first given indices\n",
    "        k_nearest_neighbors = [(training_X_data[i], distances[i], training_y_data[i]) for i in sorted_indices]\n",
    "\n",
    "        class_vals = [neighbor[2] for neighbor in k_nearest_neighbors]\n",
    "        predicted_class = scipy.stats.mode(class_vals)[0][0]  # calculate mode to find out the majority\n",
    "        \n",
    "        if(predicted_class == y[0]):   # check if prediction is right\n",
    "            correct = correct + 1\n",
    "\n",
    "        final_evaluations.append([test_row, predicted_class])\n",
    "\n",
    "    accuracy = (correct/len(testing_y_data))*100   # calculate accuracy\n",
    "\n",
    "    return final_evaluations,accuracy"
   ]
  },
  {
   "cell_type": "markdown",
   "id": "ce3878a8-1f82-4fd1-9b88-7eae6a84703f",
   "metadata": {},
   "source": [
    "## Prediction with Normalized dataset"
   ]
  },
  {
   "cell_type": "markdown",
   "id": "c8c3e3f4-5ddf-4069-bea6-7ddbc139ee76",
   "metadata": {},
   "source": [
    "### With k == 1"
   ]
  },
  {
   "cell_type": "code",
   "execution_count": 72,
   "id": "f96cd7b2",
   "metadata": {
    "tags": []
   },
   "outputs": [
    {
     "name": "stdout",
     "output_type": "stream",
     "text": [
      "accuracy with normalized dataset with k = 1\n",
      "96.91\n",
      "misclassification_rate with normalized dataset with k = 1\n",
      "0.03090000000000004\n"
     ]
    }
   ],
   "source": [
    "c1,accuracy_normalized_1 = evaluate_class(train_X_normalized,train_y_arr,test_X_normalized,test_y_arr,1)\n",
    "print(\"accuracy with normalized dataset with k = 1\")\n",
    "print(accuracy_normalized_1)\n",
    "print(\"misclassification_rate with normalized dataset with k = 1\")\n",
    "print(1-(accuracy_normalized_1/100))"
   ]
  },
  {
   "cell_type": "markdown",
   "id": "61aa2a95-18b7-4280-a3be-0865d0d4f9d5",
   "metadata": {
    "tags": []
   },
   "source": [
    "### With k == 3"
   ]
  },
  {
   "cell_type": "code",
   "execution_count": 74,
   "id": "6f4656d6",
   "metadata": {},
   "outputs": [
    {
     "name": "stdout",
     "output_type": "stream",
     "text": [
      "accuracy with normalized dataset with k = 3\n",
      "97.05\n",
      "misclassification_rate with normalized dataset with k = 3\n",
      "0.02950000000000008\n"
     ]
    }
   ],
   "source": [
    "c3,accuracy_normalized_3 = evaluate_class(train_X_normalized,train_y_arr,test_X_normalized,test_y_arr,3)\n",
    "print(\"accuracy with normalized dataset with k = 3\")\n",
    "print(accuracy_normalized_3)\n",
    "print(\"misclassification_rate with normalized dataset with k = 3\")\n",
    "print(1-(accuracy_normalized_3/100))"
   ]
  },
  {
   "cell_type": "markdown",
   "id": "7c45cac2-8055-4de3-91cb-3afa9abeaaba",
   "metadata": {},
   "source": [
    "## Prediction with original dataset"
   ]
  },
  {
   "cell_type": "markdown",
   "id": "a6fcd90a-b912-4771-bfd2-919d200aa53a",
   "metadata": {
    "tags": []
   },
   "source": [
    "### With k == 1"
   ]
  },
  {
   "cell_type": "code",
   "execution_count": 76,
   "id": "aeb4a7e0-4d9e-4da3-9211-941ff2ef4d1d",
   "metadata": {
    "tags": []
   },
   "outputs": [
    {
     "name": "stdout",
     "output_type": "stream",
     "text": [
      "accuracy with original dataset with k = 1\n",
      "50.519999999999996\n",
      "misclassification_rate with original dataset with k = 1\n",
      "0.4948\n"
     ]
    }
   ],
   "source": [
    "c11,accuracy_1 = evaluate_class(train_X_arr,train_y_arr,test_X_arr,test_y_arr,1)\n",
    "print(\"accuracy with original dataset with k = 1\")\n",
    "print(accuracy_1)\n",
    "print(\"misclassification_rate with original dataset with k = 1\")\n",
    "print(1-(accuracy_1/100))"
   ]
  },
  {
   "cell_type": "markdown",
   "id": "3c56d208-ba1f-45eb-be80-05b2a068d90b",
   "metadata": {},
   "source": [
    "### with k == 3"
   ]
  },
  {
   "cell_type": "code",
   "execution_count": 78,
   "id": "82fa7bfa-01e1-4bcf-a371-635b9a368eb3",
   "metadata": {
    "tags": []
   },
   "outputs": [
    {
     "name": "stdout",
     "output_type": "stream",
     "text": [
      "accuracy with original dataset with k = 3\n",
      "43.72\n",
      "misclassification_rate with original dataset with k = 3\n",
      "0.5628\n"
     ]
    }
   ],
   "source": [
    "c13,accuracy_3 = evaluate_class(train_X_arr,train_y_arr,test_X_arr,test_y_arr,3)\n",
    "print(\"accuracy with original dataset with k = 3\")\n",
    "print(accuracy_3)\n",
    "print(\"misclassification_rate with original dataset with k = 3\")\n",
    "print(1-(accuracy_3/100))"
   ]
  },
  {
   "cell_type": "markdown",
   "id": "f33166c2-c4a3-4542-b2fc-fd2609d25d70",
   "metadata": {
    "tags": []
   },
   "source": [
    "## Permuting the columns"
   ]
  },
  {
   "cell_type": "code",
   "execution_count": 25,
   "id": "8748ae12-0453-48da-a344-07cb64fb1e17",
   "metadata": {
    "tags": []
   },
   "outputs": [],
   "source": [
    "def permute_columns(train_matrix,test_matrix):\n",
    "    num_columns = train_matrix.shape[1]\n",
    "    permutation_indices = np.random.permutation(num_columns)\n",
    "    return train_matrix[:, permutation_indices],test_matrix[:, permutation_indices]\n",
    "\n",
    "X_train_permuted,X_test_permuted = permute_columns(train_X_arr,test_X_arr)"
   ]
  },
  {
   "cell_type": "markdown",
   "id": "34a42249",
   "metadata": {
    "tags": []
   },
   "source": [
    "## Prediction with permuted matrices"
   ]
  },
  {
   "cell_type": "code",
   "execution_count": 29,
   "id": "cf4aa0c7-5a90-498e-b9ab-b1f9b74a5ee4",
   "metadata": {
    "tags": []
   },
   "outputs": [
    {
     "name": "stdout",
     "output_type": "stream",
     "text": [
      "accuracy with normalized dataset with k = 1\n",
      "50.519999999999996\n",
      "misclassification_rate with normalized dataset with k = 1\n",
      "0.4948\n"
     ]
    }
   ],
   "source": [
    "cp,accuracy_permutation_1 = evaluate_class(X_train_permuted,train_y_arr,X_test_permuted,test_y_arr,1)\n",
    "print(\"accuracy with normalized dataset with k = 1\")\n",
    "print(accuracy_permutation_1)\n",
    "print(\"misclassification_rate with normalized dataset with k = 1\")\n",
    "print(1-(accuracy_permutation_1/100))"
   ]
  },
  {
   "cell_type": "code",
   "execution_count": null,
   "id": "2ea3cd7a-0521-4a02-b5e3-76bbfe0c6be4",
   "metadata": {
    "tags": []
   },
   "outputs": [],
   "source": [
    "## We can see that after permuting the dataset our misclassification rate is not changing"
   ]
  }
 ],
 "metadata": {
  "kernelspec": {
   "display_name": "Python 3 (ipykernel)",
   "language": "python",
   "name": "python3"
  },
  "language_info": {
   "codemirror_mode": {
    "name": "ipython",
    "version": 3
   },
   "file_extension": ".py",
   "mimetype": "text/x-python",
   "name": "python",
   "nbconvert_exporter": "python",
   "pygments_lexer": "ipython3",
   "version": "3.11.5"
  }
 },
 "nbformat": 4,
 "nbformat_minor": 5
}
