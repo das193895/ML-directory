{
 "cells": [
  {
   "cell_type": "code",
   "execution_count": null,
   "id": "d5db0633-22a2-49e3-a6ef-9f7be2a74b79",
   "metadata": {},
   "outputs": [],
   "source": [
    "## function for calculating euclidian distance between 2 n-dimensional inputs\n",
    "\n",
    "def calc_euclidean_distance(input_1,input_2):  ## here input_1 and input_2 are vectors of same dimensions\n",
    "    \n",
    "    ## converting to numpy arrays \n",
    "    input_1_numpy = np.array(input_1);\n",
    "    input_2_numpy = np.array(input_2);\n",
    "    \n",
    "    ## doing an elementwise difference\n",
    "    difference = input_1_numpy - input_2_numpy;\n",
    "    \n",
    "    norm_difference = np.linalg.norm(difference,axis = 1);\n",
    "    \n",
    "    return norm_difference   ## return the calculated euclidian distance\n",
    "\n",
    "def evaluate_class(training_X_data,training_y_data,testing_X_data,testing_y_data,k):\n",
    "    \n",
    "    final_evaluations = []\n",
    "    \n",
    "    itr = 0\n",
    "    \n",
    "    for i in (testing_X_data):\n",
    "        k_nearest_neighbors = get_neighbors(training_X_data,training_y_data,i, k)\n",
    "        \n",
    "#         class_vals = []\n",
    "        \n",
    "#         for j in k_nerest_neighbors:\n",
    "#             class_vals.append(j[2])\n",
    "            \n",
    "#         mode = scipy.stats.mode(class_vals)[0]\n",
    "        \n",
    "#         final_evaluations.append([i,mode])\n",
    "\n",
    "        class_vals = [neighbor[2] for neighbor in k_nearest_neighbors]\n",
    "        predicted_class = scipy.stats.mode(class_vals)[0][0]\n",
    "        \n",
    "        final_evaluations.append([i, predicted_class])\n",
    "        \n",
    "        itr = itr + 1\n",
    "        \n",
    "        if itr == 1000:\n",
    "            break\n",
    "        \n",
    "    return(final_evaluations) \n",
    "# Locate the most similar neighbors with respect to a single test input\n",
    "def get_neighbors(training_X_data,training_y_data, test_row, k):\n",
    "    all_distances = []\n",
    "    \n",
    "    all_distances = calc_euclidean_distance(training_X_data, test_row);\n",
    "    \n",
    "    result = list(zip(training_X_data, all_distances, training_y_data))\n",
    "    \n",
    "    sorted_neighbors = sorted(result,key=lambda x: x[1])\n",
    "\n",
    "    return sorted_neighbors[:k]"
   ]
  }
 ],
 "metadata": {
  "kernelspec": {
   "display_name": "Python 3 (ipykernel)",
   "language": "python",
   "name": "python3"
  },
  "language_info": {
   "codemirror_mode": {
    "name": "ipython",
    "version": 3
   },
   "file_extension": ".py",
   "mimetype": "text/x-python",
   "name": "python",
   "nbconvert_exporter": "python",
   "pygments_lexer": "ipython3",
   "version": "3.11.5"
  }
 },
 "nbformat": 4,
 "nbformat_minor": 5
}
