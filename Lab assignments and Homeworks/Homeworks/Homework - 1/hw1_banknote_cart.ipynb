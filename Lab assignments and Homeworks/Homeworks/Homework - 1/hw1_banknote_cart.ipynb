{
 "cells": [
  {
   "cell_type": "markdown",
   "id": "3d493c45",
   "metadata": {
    "tags": []
   },
   "source": [
    "# Prediction with Decision Trees"
   ]
  },
  {
   "cell_type": "code",
   "execution_count": 2,
   "id": "c5f3ad9f",
   "metadata": {},
   "outputs": [],
   "source": [
    "## Importing all the required libraries\n",
    "import pandas as pd\n",
    "import numpy as np\n",
    "import matplotlib.pyplot as plt\n",
    "%matplotlib inline\n",
    "import seaborn as sns\n",
    "import warnings\n",
    "warnings.filterwarnings(\"ignore\")"
   ]
  },
  {
   "cell_type": "markdown",
   "id": "754e369f",
   "metadata": {},
   "source": [
    "## Data Gathering and Preprocessing"
   ]
  },
  {
   "cell_type": "code",
   "execution_count": 3,
   "id": "6bd4a711-05c4-43ed-b4d4-0f300bb8e1a1",
   "metadata": {
    "tags": []
   },
   "outputs": [],
   "source": [
    "df = pd.read_csv(\"data_banknote_authentication.csv\")  # loading the csv file"
   ]
  },
  {
   "cell_type": "code",
   "execution_count": 4,
   "id": "0cad056d-d9e7-45c3-83b9-48f3e9888337",
   "metadata": {
    "tags": []
   },
   "outputs": [
    {
     "data": {
      "text/html": [
       "<div>\n",
       "<style scoped>\n",
       "    .dataframe tbody tr th:only-of-type {\n",
       "        vertical-align: middle;\n",
       "    }\n",
       "\n",
       "    .dataframe tbody tr th {\n",
       "        vertical-align: top;\n",
       "    }\n",
       "\n",
       "    .dataframe thead th {\n",
       "        text-align: right;\n",
       "    }\n",
       "</style>\n",
       "<table border=\"1\" class=\"dataframe\">\n",
       "  <thead>\n",
       "    <tr style=\"text-align: right;\">\n",
       "      <th></th>\n",
       "      <th>3.6216</th>\n",
       "      <th>8.6661</th>\n",
       "      <th>-2.8073</th>\n",
       "      <th>-0.44699</th>\n",
       "      <th>0</th>\n",
       "    </tr>\n",
       "  </thead>\n",
       "  <tbody>\n",
       "    <tr>\n",
       "      <th>0</th>\n",
       "      <td>4.54590</td>\n",
       "      <td>8.1674</td>\n",
       "      <td>-2.4586</td>\n",
       "      <td>-1.46210</td>\n",
       "      <td>0</td>\n",
       "    </tr>\n",
       "    <tr>\n",
       "      <th>1</th>\n",
       "      <td>3.86600</td>\n",
       "      <td>-2.6383</td>\n",
       "      <td>1.9242</td>\n",
       "      <td>0.10645</td>\n",
       "      <td>0</td>\n",
       "    </tr>\n",
       "    <tr>\n",
       "      <th>2</th>\n",
       "      <td>3.45660</td>\n",
       "      <td>9.5228</td>\n",
       "      <td>-4.0112</td>\n",
       "      <td>-3.59440</td>\n",
       "      <td>0</td>\n",
       "    </tr>\n",
       "    <tr>\n",
       "      <th>3</th>\n",
       "      <td>0.32924</td>\n",
       "      <td>-4.4552</td>\n",
       "      <td>4.5718</td>\n",
       "      <td>-0.98880</td>\n",
       "      <td>0</td>\n",
       "    </tr>\n",
       "    <tr>\n",
       "      <th>4</th>\n",
       "      <td>4.36840</td>\n",
       "      <td>9.6718</td>\n",
       "      <td>-3.9606</td>\n",
       "      <td>-3.16250</td>\n",
       "      <td>0</td>\n",
       "    </tr>\n",
       "  </tbody>\n",
       "</table>\n",
       "</div>"
      ],
      "text/plain": [
       "    3.6216  8.6661  -2.8073  -0.44699  0\n",
       "0  4.54590  8.1674  -2.4586  -1.46210  0\n",
       "1  3.86600 -2.6383   1.9242   0.10645  0\n",
       "2  3.45660  9.5228  -4.0112  -3.59440  0\n",
       "3  0.32924 -4.4552   4.5718  -0.98880  0\n",
       "4  4.36840  9.6718  -3.9606  -3.16250  0"
      ]
     },
     "execution_count": 4,
     "metadata": {},
     "output_type": "execute_result"
    }
   ],
   "source": [
    "df.head()"
   ]
  },
  {
   "cell_type": "code",
   "execution_count": 5,
   "id": "436831d2-6435-4004-b0d6-5c4258fb26a6",
   "metadata": {
    "tags": []
   },
   "outputs": [
    {
     "data": {
      "text/plain": [
       "Index(['3.6216', '8.6661', '-2.8073', '-0.44699', '0'], dtype='object')"
      ]
     },
     "execution_count": 5,
     "metadata": {},
     "output_type": "execute_result"
    }
   ],
   "source": [
    "df.columns"
   ]
  },
  {
   "cell_type": "code",
   "execution_count": 6,
   "id": "a847487f-18db-4e77-9c3d-6ad896e73464",
   "metadata": {
    "tags": []
   },
   "outputs": [
    {
     "data": {
      "text/plain": [
       "0\n",
       "0    761\n",
       "1    610\n",
       "Name: count, dtype: int64"
      ]
     },
     "execution_count": 6,
     "metadata": {},
     "output_type": "execute_result"
    }
   ],
   "source": [
    "df[[\"0\"]].value_counts()"
   ]
  },
  {
   "cell_type": "code",
   "execution_count": 7,
   "id": "96cdb095-74a2-4d5e-9545-493ed0254697",
   "metadata": {
    "tags": []
   },
   "outputs": [],
   "source": [
    "## Train test split\n",
    "\n",
    "train_set = df.sample(frac = 0.7)\n",
    "\n",
    "test_set = df.drop(train_set.index)\n",
    "\n",
    "train_set_arr = train_set.values\n",
    "test_set_arr = test_set.values\n",
    "\n",
    "new_train_X = train_set_arr[:,0:4]\n",
    "new_train_y = train_set_arr[:,-1]\n",
    "\n",
    "new_test_X = test_set_arr[:,0:4]\n",
    "new_test_y = test_set_arr[:,-1]"
   ]
  },
  {
   "cell_type": "markdown",
   "id": "b2c5a745",
   "metadata": {},
   "source": [
    "## Calculate Gini index"
   ]
  },
  {
   "cell_type": "code",
   "execution_count": 8,
   "id": "a4eee4d3-5a43-4d42-8ce0-4d0c825baa8d",
   "metadata": {
    "tags": []
   },
   "outputs": [],
   "source": [
    "## Implemnting the function for calculating gini index\n",
    "\n",
    "def pi(l,m):\n",
    "    \n",
    "    no_of_rows = len(l)\n",
    "    c = 0\n",
    "    \n",
    "    for i in l:\n",
    "        \n",
    "        if(i[-1] == m):\n",
    "            c+=1\n",
    "\n",
    "    return c/no_of_rows\n",
    "\n",
    "def calc_gini_for_one_region(region,classes):\n",
    "    \n",
    "    c = 0\n",
    "\n",
    "    for i in classes:\n",
    "        p = pi(region,i)\n",
    "        term = p**2\n",
    "        c = c+term\n",
    "\n",
    "    return 1-c\n",
    "\n",
    "def gini_index(regions, classes):\n",
    "\n",
    "    weighted_avg = 0\n",
    "\n",
    "    for i in regions:\n",
    "        n = len(i)\n",
    "        if(n == 0):\n",
    "            continue\n",
    "        Q = calc_gini_for_one_region(i,classes)\n",
    "        weighted_avg+= n*Q\n",
    "\n",
    "    return weighted_avg\n"
   ]
  },
  {
   "cell_type": "markdown",
   "id": "766c0591",
   "metadata": {},
   "source": [
    "## Splitting the root node"
   ]
  },
  {
   "cell_type": "code",
   "execution_count": 9,
   "id": "f7e876d2-6649-4aa0-83cb-8b2a495e5033",
   "metadata": {
    "tags": []
   },
   "outputs": [],
   "source": [
    "def split_at_root_node(feature_index, value, dataset):\n",
    "    \n",
    "    L1 = []\n",
    "    R1 = []\n",
    "    \n",
    "    for i in dataset:\n",
    "        if (i[feature_index] < value):\n",
    "            L1.append(i)\n",
    "        else:\n",
    "            R1.append(i)\n",
    "    return L1, R1"
   ]
  },
  {
   "cell_type": "markdown",
   "id": "562e8813",
   "metadata": {},
   "source": [
    "## Evaluting the best split"
   ]
  },
  {
   "cell_type": "code",
   "execution_count": 10,
   "id": "ddd908af-dd0a-4f0f-8e1c-c35d118a10fb",
   "metadata": {
    "tags": []
   },
   "outputs": [],
   "source": [
    "def get_best_split(data):\n",
    "\n",
    "    # Find the different classes present in the dataset\n",
    "    class_values = [0,1]\n",
    "\n",
    "    # initialize best_index, best_threshold, best_gini_score, best_regions\n",
    "    optimum_loss = 2**31 - 1\n",
    "    best_index \t= 2**31 - 1\n",
    "    best_value \t= 2**31 - 1\n",
    "    optimum_regions = None\n",
    "\n",
    "    for i in range (len(data[0])-1):\n",
    "        for j in data:\n",
    "\n",
    "            focused_index = i\n",
    "            focused_value = j[i]\n",
    "\n",
    "            new_regions = split_at_root_node(focused_index,focused_value,data)  ## compute regions\n",
    "\n",
    "            new_gini_score = gini_index(new_regions, class_values)  ## calculate gini score with newly computed regions\n",
    "            \n",
    "\n",
    "            if new_gini_score < optimum_loss:  # check if loss is getting decreased or not\n",
    "                \n",
    "                optimum_loss = new_gini_score\n",
    "                optimum_regions = new_regions\n",
    "                optimum_index = focused_index\n",
    "                optimum_value = focused_value\n",
    "                \n",
    "    return {'index':optimum_index, 'value':optimum_value, 'regions':optimum_regions}"
   ]
  },
  {
   "cell_type": "markdown",
   "id": "7823714a",
   "metadata": {},
   "source": [
    "## Finally evaluting predictions at a Leaf node"
   ]
  },
  {
   "cell_type": "code",
   "execution_count": 11,
   "id": "ab6456f4-4d0f-4940-9bf0-b6425426745d",
   "metadata": {
    "tags": []
   },
   "outputs": [],
   "source": [
    "def leaf_output(region):\n",
    "    if not region:\n",
    "        return None\n",
    "    \n",
    "    outcomes = list(map(lambda row: row[-1], region))\n",
    "    \n",
    "    if not outcomes:\n",
    "        return None\n",
    "    \n",
    "    return max(set(outcomes), key=outcomes.count)"
   ]
  },
  {
   "cell_type": "markdown",
   "id": "fd9a480c",
   "metadata": {},
   "source": [
    "## Function for Recursive splitting"
   ]
  },
  {
   "cell_type": "code",
   "execution_count": 12,
   "id": "ac4c539f-332e-4014-9fe4-6cc48d67596f",
   "metadata": {
    "tags": []
   },
   "outputs": [],
   "source": [
    "def split(node, max_depth, min_size, depth):\n",
    "    \n",
    "    left , right = node[\"regions\"]  # evalue left and right regions of a given internal node\n",
    "    \n",
    "    if(depth >= max_depth):      # If depth is equal to max depth then evalute the predictions at the leaf node\n",
    "        node[\"left\"] = leaf_output(left)\n",
    "        node[\"right\"] = leaf_output(right)\n",
    "        return\n",
    "    \n",
    "    if((len(left) <= min_size) or (len(right) <= min_size)):  # stopping criteria \n",
    "        node[\"left\"] = leaf_output(left)\n",
    "        node[\"right\"] = leaf_output(right)\n",
    "        return\n",
    "    \n",
    "    node['left'] = get_best_split(left)   # recursively splitting the left regions\n",
    "    split(node['left'], max_depth, min_size, depth+1)\n",
    "    \n",
    "    node['right'] = get_best_split(right) # recursively splitting the right regions\n",
    "    split(node['right'], max_depth, min_size, depth+1)\n",
    "          "
   ]
  },
  {
   "cell_type": "markdown",
   "id": "cfad0c18",
   "metadata": {},
   "source": [
    "## Build the tree "
   ]
  },
  {
   "cell_type": "code",
   "execution_count": 19,
   "id": "212f35cb-9053-4c86-8e25-ed071ad7a02f",
   "metadata": {
    "tags": []
   },
   "outputs": [],
   "source": [
    "def build_tree(train_set,max_depth,min_size):\n",
    "    root = get_best_split(train_set)\n",
    "    split(root,max_depth,min_size,1)\n",
    "    return root"
   ]
  },
  {
   "cell_type": "code",
   "execution_count": 20,
   "id": "ed9fc102-27d6-4781-9932-e42d10010abd",
   "metadata": {
    "tags": []
   },
   "outputs": [],
   "source": [
    "tree = build_tree(train_set_arr, 5, 10)"
   ]
  },
  {
   "cell_type": "markdown",
   "id": "88668c43",
   "metadata": {},
   "source": [
    "## Predicting with the formed decision tree"
   ]
  },
  {
   "cell_type": "code",
   "execution_count": 21,
   "id": "2652116a-6ac5-4615-82fa-a64a274cf41b",
   "metadata": {
    "tags": []
   },
   "outputs": [],
   "source": [
    "## function for prediction\n",
    "def predict(node, row):\n",
    "    index = node['index']\n",
    "    value = node['value']\n",
    "\n",
    "    if row[index] < value:\n",
    "        next_node = node['left']\n",
    "    else:\n",
    "        next_node = node['right']\n",
    "\n",
    "    if isinstance(next_node, dict):\n",
    "        return predict(next_node, row)\n",
    "    else:\n",
    "        return next_node"
   ]
  },
  {
   "cell_type": "code",
   "execution_count": 22,
   "id": "68e60e7a-565b-425a-88ca-380206b8efbf",
   "metadata": {
    "tags": []
   },
   "outputs": [],
   "source": [
    "## Make predictions\n",
    "arr= []\n",
    "for i in new_test_X:\n",
    "    \n",
    "    arr.append(predict(tree,i))  ## predict for each i\n",
    "    \n",
    "v = np.array(arr)"
   ]
  },
  {
   "cell_type": "markdown",
   "id": "29b1f613",
   "metadata": {},
   "source": [
    "## Calculate missclassification rate"
   ]
  },
  {
   "cell_type": "code",
   "execution_count": 25,
   "id": "aacf23a0-ef99-4dea-bba1-f0b2406fe60d",
   "metadata": {
    "tags": []
   },
   "outputs": [
    {
     "name": "stdout",
     "output_type": "stream",
     "text": [
      "0.031630170316301665\n",
      "96.83698296836984\n"
     ]
    }
   ],
   "source": [
    "## calculate the misclassification rate\n",
    "\n",
    "# For testing set\n",
    "\n",
    "correct = 0\n",
    "\n",
    "for x,y in zip(v,new_test_y):\n",
    "    if(x == y):\n",
    "        correct+=1\n",
    "        \n",
    "\n",
    "misclassification_rate = (1-(correct/len(v)))*100\n",
    "accuracy = (correct/len(v))*100\n",
    "\n",
    "print(misclassification_rate/100)\n",
    "print(accuracy)   "
   ]
  },
  {
   "cell_type": "code",
   "execution_count": null,
   "id": "32591422-4246-4711-b3d4-93b396109865",
   "metadata": {},
   "outputs": [],
   "source": []
  }
 ],
 "metadata": {
  "kernelspec": {
   "display_name": "Python 3 (ipykernel)",
   "language": "python",
   "name": "python3"
  },
  "language_info": {
   "codemirror_mode": {
    "name": "ipython",
    "version": 3
   },
   "file_extension": ".py",
   "mimetype": "text/x-python",
   "name": "python",
   "nbconvert_exporter": "python",
   "pygments_lexer": "ipython3",
   "version": "3.11.5"
  }
 },
 "nbformat": 4,
 "nbformat_minor": 5
}
